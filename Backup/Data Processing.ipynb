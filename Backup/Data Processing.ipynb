{
 "cells": [
  {
   "cell_type": "markdown",
   "metadata": {},
   "source": [
    "### Import Packages"
   ]
  },
  {
   "cell_type": "code",
   "execution_count": 48,
   "metadata": {
    "collapsed": true
   },
   "outputs": [],
   "source": [
    "import pandas as pd\n",
    "import datetime\n",
    "import numpy as np"
   ]
  },
  {
   "cell_type": "markdown",
   "metadata": {},
   "source": [
    "### Import Data"
   ]
  },
  {
   "cell_type": "code",
   "execution_count": 2,
   "metadata": {
    "collapsed": false
   },
   "outputs": [],
   "source": [
    "df1 = pd.read_excel('Tab_Villages_Mapping.xlsx','Sheet1',dtypes=['int','int','str','str','str','str'])\n",
    "df2 = pd.read_excel('Tab_Villages_Mapping.xlsx','Sheet2',dtypes=['str','str','str','int','str','str'])"
   ]
  },
  {
   "cell_type": "code",
   "execution_count": 3,
   "metadata": {
    "collapsed": false
   },
   "outputs": [],
   "source": [
    "#df1['Survey Date'] = df1['Survey Date'].apply(lambda x: datetime.datetime.strptime(str(x),'%Y-%M-%d'))\n",
    "df2['Survey Start Date'] = df2['Survey Start Date'].apply(lambda x: datetime.datetime.strptime(str(x),'%d-%b-%Y'))\n",
    "df2['Survey End Date'] = df2['Survey End Date'].apply(lambda x: datetime.datetime.strptime(str(x),'%d-%b-%Y'))"
   ]
  },
  {
   "cell_type": "markdown",
   "metadata": {},
   "source": [
    "### Preliminary Analysis"
   ]
  },
  {
   "cell_type": "code",
   "execution_count": 4,
   "metadata": {
    "collapsed": false
   },
   "outputs": [
    {
     "data": {
      "text/html": [
       "<div>\n",
       "<table border=\"1\" class=\"dataframe\">\n",
       "  <thead>\n",
       "    <tr style=\"text-align: right;\">\n",
       "      <th></th>\n",
       "      <th>Response No</th>\n",
       "      <th>Tab No</th>\n",
       "      <th>Survey Date</th>\n",
       "      <th>AC Name</th>\n",
       "      <th>Mandal Name</th>\n",
       "      <th>Village Name</th>\n",
       "    </tr>\n",
       "  </thead>\n",
       "  <tbody>\n",
       "    <tr>\n",
       "      <th>0</th>\n",
       "      <td>202</td>\n",
       "      <td>35</td>\n",
       "      <td>2015-05-24</td>\n",
       "      <td>NaN</td>\n",
       "      <td>NaN</td>\n",
       "      <td>NaN</td>\n",
       "    </tr>\n",
       "    <tr>\n",
       "      <th>1</th>\n",
       "      <td>203</td>\n",
       "      <td>400</td>\n",
       "      <td>2015-07-09</td>\n",
       "      <td>NaN</td>\n",
       "      <td>NaN</td>\n",
       "      <td>NaN</td>\n",
       "    </tr>\n",
       "    <tr>\n",
       "      <th>2</th>\n",
       "      <td>206</td>\n",
       "      <td>498</td>\n",
       "      <td>2015-06-10</td>\n",
       "      <td>NaN</td>\n",
       "      <td>NaN</td>\n",
       "      <td>NaN</td>\n",
       "    </tr>\n",
       "    <tr>\n",
       "      <th>3</th>\n",
       "      <td>206</td>\n",
       "      <td>487</td>\n",
       "      <td>2015-06-13</td>\n",
       "      <td>NaN</td>\n",
       "      <td>NaN</td>\n",
       "      <td>NaN</td>\n",
       "    </tr>\n",
       "    <tr>\n",
       "      <th>4</th>\n",
       "      <td>207</td>\n",
       "      <td>455</td>\n",
       "      <td>2015-05-31</td>\n",
       "      <td>NaN</td>\n",
       "      <td>NaN</td>\n",
       "      <td>NaN</td>\n",
       "    </tr>\n",
       "  </tbody>\n",
       "</table>\n",
       "</div>"
      ],
      "text/plain": [
       "   Response No  Tab No Survey Date  AC Name  Mandal Name  Village Name\n",
       "0          202      35  2015-05-24      NaN          NaN           NaN\n",
       "1          203     400  2015-07-09      NaN          NaN           NaN\n",
       "2          206     498  2015-06-10      NaN          NaN           NaN\n",
       "3          206     487  2015-06-13      NaN          NaN           NaN\n",
       "4          207     455  2015-05-31      NaN          NaN           NaN"
      ]
     },
     "execution_count": 4,
     "metadata": {},
     "output_type": "execute_result"
    }
   ],
   "source": [
    "df1.head()"
   ]
  },
  {
   "cell_type": "code",
   "execution_count": 13,
   "metadata": {
    "collapsed": false
   },
   "outputs": [
    {
     "name": "stderr",
     "output_type": "stream",
     "text": [
      "C:\\Users\\labuser\\Anaconda2\\lib\\site-packages\\pandas\\core\\indexing.py:132: SettingWithCopyWarning: \n",
      "A value is trying to be set on a copy of a slice from a DataFrame\n",
      "\n",
      "See the caveats in the documentation: http://pandas.pydata.org/pandas-docs/stable/indexing.html#indexing-view-versus-copy\n",
      "  self._setitem_with_indexer(indexer, value)\n"
     ]
    },
    {
     "data": {
      "text/html": [
       "<div>\n",
       "<table border=\"1\" class=\"dataframe\">\n",
       "  <thead>\n",
       "    <tr style=\"text-align: right;\">\n",
       "      <th></th>\n",
       "      <th>Response No</th>\n",
       "      <th>Tab No</th>\n",
       "      <th>Survey Date</th>\n",
       "      <th>AC Name</th>\n",
       "      <th>Mandal Name</th>\n",
       "      <th>Village Name</th>\n",
       "    </tr>\n",
       "  </thead>\n",
       "  <tbody>\n",
       "    <tr>\n",
       "      <th>0</th>\n",
       "      <td>202</td>\n",
       "      <td>35</td>\n",
       "      <td>2015-05-24</td>\n",
       "      <td>something</td>\n",
       "      <td>NaN</td>\n",
       "      <td>NaN</td>\n",
       "    </tr>\n",
       "    <tr>\n",
       "      <th>1</th>\n",
       "      <td>203</td>\n",
       "      <td>400</td>\n",
       "      <td>2015-07-09</td>\n",
       "      <td>NaN</td>\n",
       "      <td>NaN</td>\n",
       "      <td>NaN</td>\n",
       "    </tr>\n",
       "    <tr>\n",
       "      <th>2</th>\n",
       "      <td>206</td>\n",
       "      <td>498</td>\n",
       "      <td>2015-06-10</td>\n",
       "      <td>NaN</td>\n",
       "      <td>NaN</td>\n",
       "      <td>NaN</td>\n",
       "    </tr>\n",
       "    <tr>\n",
       "      <th>3</th>\n",
       "      <td>206</td>\n",
       "      <td>487</td>\n",
       "      <td>2015-06-13</td>\n",
       "      <td>NaN</td>\n",
       "      <td>NaN</td>\n",
       "      <td>NaN</td>\n",
       "    </tr>\n",
       "    <tr>\n",
       "      <th>4</th>\n",
       "      <td>207</td>\n",
       "      <td>455</td>\n",
       "      <td>2015-05-31</td>\n",
       "      <td>NaN</td>\n",
       "      <td>NaN</td>\n",
       "      <td>NaN</td>\n",
       "    </tr>\n",
       "  </tbody>\n",
       "</table>\n",
       "</div>"
      ],
      "text/plain": [
       "   Response No  Tab No Survey Date    AC Name  Mandal Name  Village Name\n",
       "0          202      35  2015-05-24  something          NaN           NaN\n",
       "1          203     400  2015-07-09        NaN          NaN           NaN\n",
       "2          206     498  2015-06-10        NaN          NaN           NaN\n",
       "3          206     487  2015-06-13        NaN          NaN           NaN\n",
       "4          207     455  2015-05-31        NaN          NaN           NaN"
      ]
     },
     "execution_count": 13,
     "metadata": {},
     "output_type": "execute_result"
    }
   ],
   "source": [
    "len(df1)\n",
    "df1['AC Name'].loc[0] = 'something'\n",
    "df1.head()"
   ]
  },
  {
   "cell_type": "code",
   "execution_count": 6,
   "metadata": {
    "collapsed": false
   },
   "outputs": [],
   "source": [
    "date = df1['Survey Date'][0]"
   ]
  },
  {
   "cell_type": "code",
   "execution_count": 7,
   "metadata": {
    "collapsed": false
   },
   "outputs": [
    {
     "data": {
      "text/html": [
       "<div>\n",
       "<table border=\"1\" class=\"dataframe\">\n",
       "  <thead>\n",
       "    <tr style=\"text-align: right;\">\n",
       "      <th></th>\n",
       "      <th>AC Name</th>\n",
       "      <th>Mandal Name</th>\n",
       "      <th>Village Name</th>\n",
       "      <th>Tab No</th>\n",
       "      <th>Survey Start Date</th>\n",
       "      <th>Survey End Date</th>\n",
       "    </tr>\n",
       "  </thead>\n",
       "  <tbody>\n",
       "    <tr>\n",
       "      <th>2219</th>\n",
       "      <td>Nandigama</td>\n",
       "      <td>Veerullapadu</td>\n",
       "      <td>Peddapuram</td>\n",
       "      <td>41</td>\n",
       "      <td>2015-06-15</td>\n",
       "      <td>2015-07-22</td>\n",
       "    </tr>\n",
       "    <tr>\n",
       "      <th>2220</th>\n",
       "      <td>Nandigama</td>\n",
       "      <td>Veerullapadu</td>\n",
       "      <td>Peddapuram</td>\n",
       "      <td>151</td>\n",
       "      <td>2015-06-15</td>\n",
       "      <td>2015-07-22</td>\n",
       "    </tr>\n",
       "    <tr>\n",
       "      <th>2221</th>\n",
       "      <td>Nandigama</td>\n",
       "      <td>Veerullapadu</td>\n",
       "      <td>Peddapuram</td>\n",
       "      <td>428</td>\n",
       "      <td>2015-06-15</td>\n",
       "      <td>2015-07-22</td>\n",
       "    </tr>\n",
       "    <tr>\n",
       "      <th>2222</th>\n",
       "      <td>Nandigama</td>\n",
       "      <td>Veerullapadu</td>\n",
       "      <td>Peddapuram</td>\n",
       "      <td>308</td>\n",
       "      <td>2015-06-15</td>\n",
       "      <td>2015-07-22</td>\n",
       "    </tr>\n",
       "    <tr>\n",
       "      <th>2223</th>\n",
       "      <td>Nandigama</td>\n",
       "      <td>Veerullapadu</td>\n",
       "      <td>Peddapuram</td>\n",
       "      <td>440</td>\n",
       "      <td>2015-06-15</td>\n",
       "      <td>2015-07-22</td>\n",
       "    </tr>\n",
       "  </tbody>\n",
       "</table>\n",
       "</div>"
      ],
      "text/plain": [
       "        AC Name   Mandal Name Village Name  Tab No Survey Start Date  \\\n",
       "2219  Nandigama  Veerullapadu   Peddapuram      41        2015-06-15   \n",
       "2220  Nandigama  Veerullapadu   Peddapuram     151        2015-06-15   \n",
       "2221  Nandigama  Veerullapadu   Peddapuram     428        2015-06-15   \n",
       "2222  Nandigama  Veerullapadu   Peddapuram     308        2015-06-15   \n",
       "2223  Nandigama  Veerullapadu   Peddapuram     440        2015-06-15   \n",
       "\n",
       "     Survey End Date  \n",
       "2219      2015-07-22  \n",
       "2220      2015-07-22  \n",
       "2221      2015-07-22  \n",
       "2222      2015-07-22  \n",
       "2223      2015-07-22  "
      ]
     },
     "execution_count": 7,
     "metadata": {},
     "output_type": "execute_result"
    }
   ],
   "source": [
    "df2.tail()"
   ]
  },
  {
   "cell_type": "code",
   "execution_count": 54,
   "metadata": {
    "collapsed": false
   },
   "outputs": [
    {
     "name": "stdout",
     "output_type": "stream",
     "text": [
      "1563    Vissannapeta\n",
      "Name: Mandal Name, dtype: object\n",
      "1563    Tiruvuru\n",
      "Name: AC Name, dtype: object\n"
     ]
    },
    {
     "name": "stderr",
     "output_type": "stream",
     "text": [
      "C:\\Users\\labuser\\Anaconda2\\lib\\site-packages\\ipykernel\\__main__.py:1: UserWarning: Boolean Series key will be reindexed to match DataFrame index.\n",
      "  if __name__ == '__main__':\n"
     ]
    }
   ],
   "source": [
    "x = df2[df2['Tab No'] == 37][df2['Survey Start Date'] <= date][df2['Survey End Date'] >= date]\n",
    "print(df2['Mandal Name'][df2['Tab No'] == 35][df2['Survey Start Date'] <= date][df2['Survey End Date'] >= date])\n",
    "print(df2['AC Name'][df2['Tab No'] == 35][df2['Survey Start Date'] <= date][df2['Survey End Date'] >= date])"
   ]
  },
  {
   "cell_type": "code",
   "execution_count": 57,
   "metadata": {
    "collapsed": false
   },
   "outputs": [
    {
     "ename": "IndexError",
     "evalue": "index 0 is out of bounds for axis 0 with size 0",
     "output_type": "error",
     "traceback": [
      "\u001b[0;31m---------------------------------------------------------------------------\u001b[0m",
      "\u001b[0;31mIndexError\u001b[0m                                Traceback (most recent call last)",
      "\u001b[0;32m<ipython-input-57-12bbe171c5f8>\u001b[0m in \u001b[0;36m<module>\u001b[0;34m()\u001b[0m\n\u001b[0;32m----> 1\u001b[0;31m \u001b[0mx\u001b[0m\u001b[1;33m.\u001b[0m\u001b[0mvalues\u001b[0m\u001b[1;33m[\u001b[0m\u001b[1;36m0\u001b[0m\u001b[1;33m]\u001b[0m\u001b[1;33m\u001b[0m\u001b[0m\n\u001b[0m",
      "\u001b[0;31mIndexError\u001b[0m: index 0 is out of bounds for axis 0 with size 0"
     ]
    }
   ],
   "source": [
    "x.values[0]"
   ]
  },
  {
   "cell_type": "code",
   "execution_count": null,
   "metadata": {
    "collapsed": false
   },
   "outputs": [],
   "source": [
    "for i in range(len(df1)):\n",
    "    \n",
    "    print( \"Line No - \" + str(i+1) + '\\n')\n",
    "    \n",
    "    #initialize useful strings\n",
    "    ac = np.nan\n",
    "    mandal = np.nan\n",
    "    village = np.nan\n",
    "    \n",
    "    #Define the costraints\n",
    "    tab_no = df1['Tab No'][i]\n",
    "    date = df1['Survey Date'][i]\n",
    "    \n",
    "    #Extract relevant values using the constraints of tab number and dates.\n",
    "    \n",
    "    try:\n",
    "        df = df2['Village Name'][df2['Tab No'] == tab_no][df2['Survey Start Date'] <= date][df2['Survey End Date'] >= date]\n",
    "        #AC Name\n",
    "        ac = df['AC Name'].values[0]\n",
    "        print (ac)\n",
    "        #Mandal Name\n",
    "        mandal = df['Mandal Name'].values[0]\n",
    "        #Village Name\n",
    "        village = df['Village Name'].values[0]\n",
    "    except KeyError:\n",
    "        pass\n",
    "    \n",
    "    #Insert the values in the first dataset\n",
    "    \n",
    "    \n",
    "    df1['AC Name'].loc[i] = ac\n",
    "    df1['Mandal Name'].loc[i] = mandal\n",
    "    df1['Village Name'].loc[i] = village"
   ]
  },
  {
   "cell_type": "code",
   "execution_count": 60,
   "metadata": {
    "collapsed": false
   },
   "outputs": [
    {
     "data": {
      "text/html": [
       "<div>\n",
       "<table border=\"1\" class=\"dataframe\">\n",
       "  <thead>\n",
       "    <tr style=\"text-align: right;\">\n",
       "      <th></th>\n",
       "      <th>Response No</th>\n",
       "      <th>Tab No</th>\n",
       "      <th>Survey Date</th>\n",
       "      <th>AC Name</th>\n",
       "      <th>Mandal Name</th>\n",
       "      <th>Village Name</th>\n",
       "    </tr>\n",
       "  </thead>\n",
       "  <tbody>\n",
       "    <tr>\n",
       "      <th>0</th>\n",
       "      <td>202</td>\n",
       "      <td>35</td>\n",
       "      <td>2015-05-24</td>\n",
       "      <td>NaN</td>\n",
       "      <td>NaN</td>\n",
       "      <td>NaN</td>\n",
       "    </tr>\n",
       "    <tr>\n",
       "      <th>1</th>\n",
       "      <td>203</td>\n",
       "      <td>400</td>\n",
       "      <td>2015-07-09</td>\n",
       "      <td>NaN</td>\n",
       "      <td>NaN</td>\n",
       "      <td>NaN</td>\n",
       "    </tr>\n",
       "    <tr>\n",
       "      <th>2</th>\n",
       "      <td>206</td>\n",
       "      <td>498</td>\n",
       "      <td>2015-06-10</td>\n",
       "      <td>NaN</td>\n",
       "      <td>NaN</td>\n",
       "      <td>NaN</td>\n",
       "    </tr>\n",
       "    <tr>\n",
       "      <th>3</th>\n",
       "      <td>206</td>\n",
       "      <td>487</td>\n",
       "      <td>2015-06-13</td>\n",
       "      <td>NaN</td>\n",
       "      <td>NaN</td>\n",
       "      <td>NaN</td>\n",
       "    </tr>\n",
       "    <tr>\n",
       "      <th>4</th>\n",
       "      <td>207</td>\n",
       "      <td>455</td>\n",
       "      <td>2015-05-31</td>\n",
       "      <td>NaN</td>\n",
       "      <td>NaN</td>\n",
       "      <td>NaN</td>\n",
       "    </tr>\n",
       "  </tbody>\n",
       "</table>\n",
       "</div>"
      ],
      "text/plain": [
       "   Response No  Tab No Survey Date  AC Name  Mandal Name  Village Name\n",
       "0          202      35  2015-05-24      NaN          NaN           NaN\n",
       "1          203     400  2015-07-09      NaN          NaN           NaN\n",
       "2          206     498  2015-06-10      NaN          NaN           NaN\n",
       "3          206     487  2015-06-13      NaN          NaN           NaN\n",
       "4          207     455  2015-05-31      NaN          NaN           NaN"
      ]
     },
     "execution_count": 60,
     "metadata": {},
     "output_type": "execute_result"
    }
   ],
   "source": [
    "df1.head()"
   ]
  },
  {
   "cell_type": "code",
   "execution_count": null,
   "metadata": {
    "collapsed": true
   },
   "outputs": [],
   "source": []
  },
  {
   "cell_type": "code",
   "execution_count": null,
   "metadata": {
    "collapsed": true
   },
   "outputs": [],
   "source": []
  }
 ],
 "metadata": {
  "anaconda-cloud": {},
  "kernelspec": {
   "display_name": "Python [conda root]",
   "language": "python",
   "name": "conda-root-py"
  },
  "language_info": {
   "codemirror_mode": {
    "name": "ipython",
    "version": 2
   },
   "file_extension": ".py",
   "mimetype": "text/x-python",
   "name": "python",
   "nbconvert_exporter": "python",
   "pygments_lexer": "ipython2",
   "version": "2.7.12"
  }
 },
 "nbformat": 4,
 "nbformat_minor": 2
}
